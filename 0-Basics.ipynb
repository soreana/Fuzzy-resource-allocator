{
 "cells": [
  {
   "cell_type": "code",
   "execution_count": 1,
   "id": "76e3969a-464c-4205-bf7f-f343797b4b43",
   "metadata": {},
   "outputs": [
    {
     "name": "stdout",
     "output_type": "stream",
     "text": [
      "Overwriting cloudstack.py\n"
     ]
    }
   ],
   "source": [
    "%%writefile cloudstack.py\n",
    "\n",
    "# Import necessary modules\n",
    "from random import randint\n",
    "import numpy as np\n",
    "import matplotlib.pyplot as plt"
   ]
  },
  {
   "cell_type": "code",
   "execution_count": 2,
   "id": "035cbc32-607e-4e81-83b6-6c170c0aba34",
   "metadata": {},
   "outputs": [
    {
     "name": "stdout",
     "output_type": "stream",
     "text": [
      "Appending to cloudstack.py\n"
     ]
    }
   ],
   "source": [
    "%%writefile -a cloudstack.py\n",
    "\n",
    "\"\"\"Class service offering that contains possible flavor of the system\n",
    "\n",
    "This class used by cloudstack to generate a Virtual Machines. There is no ratio limit between CPU and Memory, I'm an admin\n",
    "\"\"\"\n",
    "\n",
    "class ServiceOffering:\n",
    "    \n",
    "    def __init__(self, _id, CPU_count, MAX_MEM):\n",
    "        self.id = _id\n",
    "        self.CPU_count = CPU_count\n",
    "        self.MAX_MEM = MAX_MEM\n",
    "        \n",
    "    def __getitem__(self, field_name):\n",
    "        if field_name == \"id\":\n",
    "            return self.id\n",
    "        elif field_name == \"CPU_count\":\n",
    "            return self.CPU_count\n",
    "        elif field_name == \"MAX_MEM\":\n",
    "            return self.MAX_MEM\n",
    "        else:\n",
    "            return None\n",
    "        \n",
    "    def __str__(self) -> str:\n",
    "        return \"(CPU: \" + str(self.CPU_count) + \" core, memory: \" + str(self.MAX_MEM) + \"GB)\"\n"
   ]
  },
  {
   "cell_type": "code",
   "execution_count": 3,
   "id": "723e8f3d-ad0c-4971-a3ee-b3b21e2cdc40",
   "metadata": {},
   "outputs": [
    {
     "name": "stdout",
     "output_type": "stream",
     "text": [
      "Appending to cloudstack.py\n"
     ]
    }
   ],
   "source": [
    "%%writefile -a cloudstack.py\n",
    "\n",
    "\"\"\"Host is our abstraction of the real hypervisor\n",
    "\n",
    " For simplicity I assumed all the hosts have 2100 mhz CPU,\n",
    " I also assumed that overprovitioning factor is 1, if you need higher overprovitioning factor pass higher CPU_count, no worries it is free :)\n",
    "\"\"\"\n",
    "\n",
    "class Host:\n",
    "    \n",
    "    def __init__(self, name, CPU_count, MAX_MEM):\n",
    "        self.name = name\n",
    "        self.CPU_count = CPU_count\n",
    "        self.MAX_MEM = MAX_MEM\n",
    "        self.vms = []\n",
    "        \n",
    "    def run_vm(self, vm):\n",
    "        if type(vm) is not VM:\n",
    "            return\n",
    "        \n",
    "        if self.has_enough_resource_for(vm.so):\n",
    "            self.vms.append(vm)\n",
    "        else:\n",
    "            raise Exception(\"Host doesn't have enough capacity for \" + vm.name + \" with the offering \" + vm.so )\n",
    "            \n",
    "    def __getitem__(self, field_name):\n",
    "        if field_name == \"name\":\n",
    "            return self.name\n",
    "        elif field_name == \"CPU_count\":\n",
    "            return self.CPU_count\n",
    "        elif field_name == \"MAX_MEM\":\n",
    "            return self.MAX_MEM\n",
    "        elif field_name == \"vms\":\n",
    "            return self.vms\n",
    "        else:\n",
    "            return None\n",
    "        \n",
    "    def fuzzy_allocated_capacity(self):\n",
    "        allocated = self.get_allocated_resources()\n",
    "        return max(allocated[\"MEM_allocated\"]/self.MAX_MEM, allocated[\"CPU_allocated\"]/self.CPU_count)\n",
    "        \n",
    "    def get_used_resources(self):\n",
    "        return {\n",
    "            \"CPU_usage\" : sum([vm.CPU_usage for vm in self.vms ]),\n",
    "            \"MEM_usage\" : sum([vm.mem_usage for vm in self.vms ])\n",
    "        }\n",
    "    \n",
    "    def get_allocated_resources(self):\n",
    "        return {\n",
    "            \"CPU_allocated\" : sum([vm.so.CPU_count for vm in self.vms ]),\n",
    "            \"MEM_allocated\" : sum([vm.so.MAX_MEM for vm in self.vms ])\n",
    "        }\n",
    "    \n",
    "    def get_free_resources(self):\n",
    "        allocated = self.get_allocated_resources()\n",
    "        return {\n",
    "            \"CPU_free\" : self.CPU_count - allocated[\"CPU_allocated\"],\n",
    "            \"MEM_free\" : self.MAX_MEM - allocated[\"MEM_allocated\"]\n",
    "        }\n",
    "    \n",
    "    def has_enough_resource_for(self, service_offering):\n",
    "        free = self.get_free_resources()\n",
    "        return service_offering.CPU_count < free[\"CPU_free\"] and service_offering.MAX_MEM < free[\"MEM_free\"]\n",
    "\n",
    "    def __str__(self):\n",
    "        return \"Name: \" + self.name + \"\\nCPU: \" + str(self.CPU_count) + \" core\\nmemory: \" + str(self.MAX_MEM) + \"GB\\nVMs: \" + str([str(vm.name) + \" \" for vm in self.vms ])"
   ]
  },
  {
   "cell_type": "code",
   "execution_count": 4,
   "id": "8894dd54-4852-4e4f-b8e8-6c096032817d",
   "metadata": {},
   "outputs": [
    {
     "name": "stdout",
     "output_type": "stream",
     "text": [
      "Appending to cloudstack.py\n"
     ]
    }
   ],
   "source": [
    "%%writefile -a cloudstack.py\n",
    "\n",
    "\"\"\"VM emulates the computation and usage of our hosts\n",
    "\n",
    "For simplicity, we assumed that the VMs don't have usage. But it is there for later use.\n",
    "We can skip the VM and use the service offering but it that case we can't implement the usage.\n",
    "\"\"\"\n",
    "\n",
    "class VM:\n",
    "    \n",
    "    def __init__(self, name, host, service_offering):\n",
    "        self.name = name\n",
    "        self.host = host\n",
    "        self.so = service_offering\n",
    "        self.CPU_usage = 0\n",
    "        self.mem_usage = 0\n",
    "        \n",
    "    def update_usage(self):\n",
    "        ## TODO: Using used memory rather than the allocation adds an unnecessary complexity to the project\n",
    "        ## reserve minimum memory usage 20%\n",
    "        ## Increase or decrease the current memory usage in range of 10% of the current memory usage\n",
    "        ## reserve minimum cpu usage 10%\n",
    "        ## Increase or decrease the current memory usage in range of 30% of the current memory usage\n",
    "        return None\n",
    "        \n",
    "        \n",
    "    def __str__(self):\n",
    "        return \"Name: \" + self.name + \"\\nservice offering: \" + str(self.so) +  \"\\nusage: (CPU: \" + str(self.CPU_usage) + \", memory: \" + str(self.mem_usage) + \")\""
   ]
  },
  {
   "cell_type": "code",
   "execution_count": 5,
   "id": "54d69bcc-e09b-4c54-ad0a-ce88d03825db",
   "metadata": {},
   "outputs": [
    {
     "name": "stdout",
     "output_type": "stream",
     "text": [
      "Appending to cloudstack.py\n"
     ]
    }
   ],
   "source": [
    "%%writefile -a cloudstack.py\n",
    "\n",
    "class CloudStack:\n",
    "    \n",
    "    def __init__(self, policy=\"random\", host_count=0, host_memory=256, host_cpu_count=128, host_prefix=\"Node#\", alpha=0.5, start_with=\"firstfit\"):\n",
    "        self.policy = policy\n",
    "        self.alpha = alpha\n",
    "        self.start_with = start_with\n",
    "        self.hosts = []\n",
    "        self.vms = []\n",
    "        \n",
    "        for i in range(host_count):\n",
    "            host = Host(f'host_prefix {i}', host_cpu_count, host_memory)\n",
    "            self.add_host(host)\n",
    "    \n",
    "    def deploy_vm(self, name, service_offering):\n",
    "        host = self.select_host(service_offering)\n",
    "        \n",
    "        if host is None:\n",
    "            return None\n",
    "        \n",
    "        vm = VM(name, host, service_offering);\n",
    "        host.run_vm(vm)\n",
    "        self.vms.append(vm)   \n",
    "        return vm\n",
    "        \n",
    "    def add_host(self, host):\n",
    "        if type(host) is not Host:\n",
    "            return\n",
    "        self.hosts.append(host)\n",
    "                  \n",
    "    def select_host(self, service_offering):\n",
    "        if self.policy == \"random\":\n",
    "            host_indexes = np.arange(len(self.hosts))\n",
    "            np.random.shuffle(host_indexes)\n",
    "            for i in host_indexes:\n",
    "                candidate_host = self.hosts[i]\n",
    "                if candidate_host.has_enough_resource_for(service_offering):\n",
    "                    return candidate_host\n",
    "            return None\n",
    "        \n",
    "        elif self.policy == \"firstfit\":\n",
    "            return self.pick_first_fit_host(service_offering)\n",
    "\n",
    "        elif self.policy == \"leastconsumed\":\n",
    "            return self.pick_least_consumed_host(service_offering)\n",
    "        \n",
    "        elif self.policy == \"fuzzy\":\n",
    "            if self.start_with == \"firstfit\" :\n",
    "                if self.fuzzy_allocated_capacity() > self.alpha :\n",
    "                    return self.pick_least_consumed_host(service_offering)\n",
    "\n",
    "                return self.pick_first_fit_host(service_offering)\n",
    "            else:\n",
    "                if self.fuzzy_allocated_capacity() > self.alpha :\n",
    "                    return self.pick_first_fit_host(service_offering)\n",
    "                return self.pick_least_consumed_host(service_offering)\n",
    "        else:\n",
    "            raise Exception(f'Policy {self.policy} doesn\\'t have any implementation.')\n",
    "    \n",
    "    def pick_first_fit_host(self, service_offering):\n",
    "        for host in self.hosts:\n",
    "            if host.has_enough_resource_for(service_offering):\n",
    "                return host\n",
    "        return None\n",
    "\n",
    "    def pick_least_consumed_host(self, service_offering):\n",
    "        dtype = [('name', 'U10'), ('CPU_free', int), ('MEM_free', int)]\n",
    "            \n",
    "        host_statuses = np.array(self.get_hosts_statuses() , dtype=dtype)\n",
    "        host_statuses = np.sort(host_statuses, order=['CPU_free', 'MEM_free'])[::-1]\n",
    "            \n",
    "        for status in host_statuses:\n",
    "            candidate_host = [h for h in self.hosts if h.name == status[0]][0]\n",
    "            if candidate_host.has_enough_resource_for(service_offering):\n",
    "                return candidate_host\n",
    "        return None\n",
    "    \n",
    "    def fuzzy_allocated_capacity(self):\n",
    "        return sum([ h.fuzzy_allocated_capacity() for h in self.hosts])/len(self.hosts)     \n",
    "        \n",
    "    def get_hosts_statuses(self):\n",
    "        return [(h.name, h.get_free_resources()[\"CPU_free\"], h.get_free_resources()[\"MEM_free\"]) for h in self.hosts]\n",
    "    \n",
    "    def get_max_memory(self):\n",
    "        return max([ h.MAX_MEM for h in self.hosts])\n",
    "    \n",
    "    def get_max_cpu_count(self):\n",
    "        return max([ h.CPU_count for h in self.hosts])"
   ]
  },
  {
   "cell_type": "code",
   "execution_count": 6,
   "id": "091611a6-c3e9-4c0d-be7a-cf16b9d766fb",
   "metadata": {},
   "outputs": [
    {
     "name": "stdout",
     "output_type": "stream",
     "text": [
      "Appending to cloudstack.py\n"
     ]
    }
   ],
   "source": [
    "%%writefile -a cloudstack.py\n",
    "\n",
    "def plot_hosts_CPU(cs, service_offerings):\n",
    "    plot_hosts(cs, service_offerings, \"CPU_count\", cs.get_max_cpu_count() + 1, Y_steps=8)\n",
    "    \n",
    "def plot_hosts_memory(cs, service_offerings):\n",
    "    plot_hosts(cs, service_offerings, \"MAX_MEM\", cs.get_max_memory() + 1, Y_steps=16)\n",
    "\n",
    "def plot_hosts(cs, service_offerings, Y, MAX, Y_steps):\n",
    "    \n",
    "    sample = Y.replace('MAX_', '').replace('_count','')\n",
    "    data = np.array([[0]*len(cs.hosts)]*len(service_offerings))\n",
    "    \n",
    "    columns = [h.name for h in cs.hosts]\n",
    "    rows = [ str(of[Y]) + ' ' + sample for of in service_offerings]\n",
    "    \n",
    "    for i in range(len(cs.hosts)):\n",
    "        for vm in cs.hosts[i].vms:\n",
    "            data[vm.so.id][i] += 1\n",
    "    \n",
    "    values = np.arange(0, MAX, Y_steps)\n",
    "\n",
    "    # Get some pastel shades for the colors\n",
    "    colors = plt.cm.BuPu(np.linspace(0, 0.5, len(rows)))\n",
    "    n_rows = len(data)\n",
    "\n",
    "    index = np.arange(len(columns)) + 0.3\n",
    "    bar_width = 0.5\n",
    "\n",
    "    # Initialize the vertical-offset for the stacked bar chart.\n",
    "    y_offset = np.zeros(len(columns))\n",
    "\n",
    "    # Plot bars and create text labels for the table\n",
    "    cell_text = []\n",
    "    for row in range(n_rows):\n",
    "        plt.bar(index, data[row]* service_offerings[row][Y], bar_width, bottom=y_offset, color=colors[row])\n",
    "        y_offset = y_offset + data[row]* service_offerings[row][Y]\n",
    "        cell_text.append([ x for x in y_offset])\n",
    "\n",
    "\n",
    "    # Add a table at the bottom of the axes\n",
    "    the_table = plt.table(cellText=cell_text,\n",
    "                          rowLabels=rows,\n",
    "                          rowColours=colors,\n",
    "                          colLabels=columns,\n",
    "                          loc='bottom')\n",
    "\n",
    "    # Adjust layout to make room for the table:\n",
    "    plt.subplots_adjust(left=0.2, bottom=0.2)\n",
    "    \n",
    "    yLabel = \"%s Usage\" % Y.replace('MAX_', '').replace('_count','')\n",
    "\n",
    "    plt.ylabel(yLabel)\n",
    "    plt.yticks(values, ['%d' % val for val in values])\n",
    "    plt.xticks([])\n",
    "    plt.title('Host Status')\n",
    "\n",
    "    plt.show()"
   ]
  },
  {
   "cell_type": "code",
   "execution_count": 7,
   "id": "617be809-652c-4f7c-87ee-6180c2c76409",
   "metadata": {},
   "outputs": [
    {
     "name": "stdout",
     "output_type": "stream",
     "text": [
      "Appending to cloudstack.py\n"
     ]
    }
   ],
   "source": [
    "%%writefile -a cloudstack.py\n",
    "\n",
    "def plot_service_offering_distribution(distribution):\n",
    "    # the histogram of the data\n",
    "    ids = range(len(distribution))\n",
    "\n",
    "    plt.bar(ids, distribution)\n",
    "\n",
    "    plt.xlabel(\"Offering ID\")\n",
    "    plt.ylabel(\"Probability\")\n",
    "    plt.title(\"Service Offering Distribution\")\n",
    "    plt.xlim(-1, 9)\n",
    "    plt.ylim(0, 0.25)\n",
    "    plt.show()"
   ]
  },
  {
   "cell_type": "code",
   "execution_count": 8,
   "id": "3c711cd2-7478-4494-8de9-f89abc03a19f",
   "metadata": {},
   "outputs": [
    {
     "name": "stdout",
     "output_type": "stream",
     "text": [
      "Appending to cloudstack.py\n"
     ]
    }
   ],
   "source": [
    "%%writefile -a cloudstack.py\n",
    "\n",
    "def plot_failed_vms(values, labels):\n",
    "    colors = plt.cm.Reds(np.linspace(0, 0.5, len(values)))\n",
    "\n",
    "    fig1, ax1 = plt.subplots()\n",
    "    ax1.pie(values, labels=labels, autopct='%1.1f%%', startangle=90, colors=colors)\n",
    "    ax1.axis('equal')  # Equal aspect ratio ensures that pie is drawn as a circle.\n",
    "\n",
    "    centre_circle = plt.Circle((0,0),0.70,fc='white')\n",
    "    fig = plt.gcf()\n",
    "    fig.gca().add_artist(centre_circle)\n",
    "\n",
    "    plt.tight_layout()\n",
    "    plt.show()"
   ]
  },
  {
   "cell_type": "code",
   "execution_count": null,
   "id": "fbe32eb1-5737-4bb7-8465-4419cdc78c78",
   "metadata": {},
   "outputs": [],
   "source": []
  },
  {
   "cell_type": "code",
   "execution_count": null,
   "id": "8e6123b4-3636-4914-9325-5d7feb7edef0",
   "metadata": {},
   "outputs": [],
   "source": []
  }
 ],
 "metadata": {
  "kernelspec": {
   "display_name": "Python 3 (ipykernel)",
   "language": "python",
   "name": "python3"
  },
  "language_info": {
   "codemirror_mode": {
    "name": "ipython",
    "version": 3
   },
   "file_extension": ".py",
   "mimetype": "text/x-python",
   "name": "python",
   "nbconvert_exporter": "python",
   "pygments_lexer": "ipython3",
   "version": "3.10.6"
  }
 },
 "nbformat": 4,
 "nbformat_minor": 5
}
